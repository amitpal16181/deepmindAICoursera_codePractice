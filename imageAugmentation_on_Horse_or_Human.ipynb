{
  "nbformat": 4,
  "nbformat_minor": 0,
  "metadata": {
    "colab": {
      "provenance": [],
      "authorship_tag": "ABX9TyN4kOVFB86uhDeek2xPmegV",
      "include_colab_link": true
    },
    "kernelspec": {
      "name": "python3",
      "display_name": "Python 3"
    },
    "language_info": {
      "name": "python"
    },
    "accelerator": "GPU",
    "gpuClass": "standard"
  },
  "cells": [
    {
      "cell_type": "markdown",
      "metadata": {
        "id": "view-in-github",
        "colab_type": "text"
      },
      "source": [
        "<a href=\"https://colab.research.google.com/github/amitpal16181/deepmindAICoursera_codePractice/blob/main/imageAugmentation_on_Horse_or_Human.ipynb\" target=\"_parent\"><img src=\"https://colab.research.google.com/assets/colab-badge.svg\" alt=\"Open In Colab\"/></a>"
      ]
    },
    {
      "cell_type": "markdown",
      "source": [
        "# Ungraded Lab: Data Augmentation on the Horses or Humans Dataset"
      ],
      "metadata": {
        "id": "aNCKR5S9UmQY"
      }
    },
    {
      "cell_type": "markdown",
      "source": [
        "In the previous lab, you saw how data augmentation helped improve the model's performance on unseen data. By tweaking the cat and dog training images, the model was able to learn features that are also representative of the validation data. However, applying data augmentation requires good understanding of your dataset. Simply transforming it randomly will not always yield good results.\n",
        "\n",
        "In the next cells, you will apply the same techniques to the Horses or Humans dataset and analyze the results."
      ],
      "metadata": {
        "id": "nQqHrcVrUrjQ"
      }
    },
    {
      "cell_type": "code",
      "execution_count": 12,
      "metadata": {
        "colab": {
          "base_uri": "https://localhost:8080/"
        },
        "id": "zx6n1gKVUj5h",
        "outputId": "edea4427-301b-4b71-a86d-6ae01d48d4bf"
      },
      "outputs": [
        {
          "output_type": "stream",
          "name": "stdout",
          "text": [
            "--2023-01-07 13:12:46--  https://storage.googleapis.com/tensorflow-1-public/course2/week3/horse-or-human.zip\n",
            "Resolving storage.googleapis.com (storage.googleapis.com)... 172.253.114.128, 172.253.119.128, 108.177.111.128, ...\n",
            "Connecting to storage.googleapis.com (storage.googleapis.com)|172.253.114.128|:443... connected.\n",
            "HTTP request sent, awaiting response... 200 OK\n",
            "Length: 149574867 (143M) [application/zip]\n",
            "Saving to: ‘horse-or-human.zip.2’\n",
            "\n",
            "horse-or-human.zip. 100%[===================>] 142.65M   202MB/s    in 0.7s    \n",
            "\n",
            "2023-01-07 13:12:47 (202 MB/s) - ‘horse-or-human.zip.2’ saved [149574867/149574867]\n",
            "\n"
          ]
        }
      ],
      "source": [
        "# Download the training set\n",
        "!wget https://storage.googleapis.com/tensorflow-1-public/course2/week3/horse-or-human.zip"
      ]
    },
    {
      "cell_type": "code",
      "source": [
        "# Download the validation set\n",
        "!wget https://storage.googleapis.com/tensorflow-1-public/course2/week3/validation-horse-or-human.zip"
      ],
      "metadata": {
        "colab": {
          "base_uri": "https://localhost:8080/"
        },
        "id": "3eue8jUYUwPq",
        "outputId": "5af597c5-9374-4670-a1f1-2899780fe2cb"
      },
      "execution_count": 13,
      "outputs": [
        {
          "output_type": "stream",
          "name": "stdout",
          "text": [
            "--2023-01-07 13:12:47--  https://storage.googleapis.com/tensorflow-1-public/course2/week3/validation-horse-or-human.zip\n",
            "Resolving storage.googleapis.com (storage.googleapis.com)... 172.253.114.128, 172.253.119.128, 108.177.111.128, ...\n",
            "Connecting to storage.googleapis.com (storage.googleapis.com)|172.253.114.128|:443... connected.\n",
            "HTTP request sent, awaiting response... 200 OK\n",
            "Length: 11480187 (11M) [application/zip]\n",
            "Saving to: ‘validation-horse-or-human.zip.2’\n",
            "\n",
            "\r          validatio   0%[                    ]       0  --.-KB/s               \rvalidation-horse-or 100%[===================>]  10.95M  --.-KB/s    in 0.07s   \n",
            "\n",
            "2023-01-07 13:12:47 (148 MB/s) - ‘validation-horse-or-human.zip.2’ saved [11480187/11480187]\n",
            "\n"
          ]
        }
      ]
    },
    {
      "cell_type": "code",
      "source": [
        "import os\n",
        "import zipfile\n",
        "\n",
        "# Extract the archive\n",
        "zip_ref = zipfile.ZipFile('./horse-or-human.zip', 'r')\n",
        "zip_ref.extractall('tmp/horse-or-human')\n",
        "\n",
        "zip_ref = zipfile.ZipFile('./validation-horse-or-human.zip', 'r')\n",
        "zip_ref.extractall('tmp/validation-horse-or-human')\n",
        "\n",
        "zip_ref.close()\n",
        "\n",
        "# Directory with training horse pictures\n",
        "train_horse_dir = os.path.join('tmp/horse-or-human/horses')\n",
        "\n",
        "# Directory with training human pictures\n",
        "train_human_dir = os.path.join('tmp/horse-or-human/humans')\n",
        "\n",
        "# Directory with training horse pictures\n",
        "validation_horse_dir = os.path.join('tmp/validation-horse-or-human/horses')\n",
        "\n",
        "# Directory with training human pictures\n",
        "validation_human_dir = os.path.join('tmp/validation-horse-or-human/humans')"
      ],
      "metadata": {
        "id": "tvGtHe_UUzFj"
      },
      "execution_count": 14,
      "outputs": []
    },
    {
      "cell_type": "code",
      "source": [
        "import tensorflow as tf\n",
        "\n",
        "# Build the model\n",
        "model = tf.keras.models.Sequential([\n",
        "    # Note the input shape is the desired size of the image 300x300 with 3 bytes color\n",
        "    # This is the first convolution\n",
        "    tf.keras.layers.Conv2D(16, (3,3), activation='relu', input_shape=(300, 300, 3)),\n",
        "    tf.keras.layers.MaxPooling2D(2, 2),\n",
        "    # The second convolution\n",
        "    tf.keras.layers.Conv2D(32, (3,3), activation='relu'),\n",
        "    tf.keras.layers.MaxPooling2D(2,2),\n",
        "    # The third convolution\n",
        "    tf.keras.layers.Conv2D(64, (3,3), activation='relu'),\n",
        "    tf.keras.layers.MaxPooling2D(2,2),\n",
        "    # The fourth convolution\n",
        "    tf.keras.layers.Conv2D(64, (3,3), activation='relu'),\n",
        "    tf.keras.layers.MaxPooling2D(2,2),\n",
        "    # The fifth convolution\n",
        "    tf.keras.layers.Conv2D(64, (3,3), activation='relu'),\n",
        "    tf.keras.layers.MaxPooling2D(2,2),\n",
        "    # Flatten the results to feed into a DNN\n",
        "    tf.keras.layers.Flatten(),\n",
        "    # 512 neuron hidden layer\n",
        "    tf.keras.layers.Dense(512, activation='relu'),\n",
        "    # Only 1 output neuron. It will contain a value from 0-1 where 0 for 1 class ('horses') and 1 for the other ('humans')\n",
        "    tf.keras.layers.Dense(1, activation='sigmoid')\n",
        "])"
      ],
      "metadata": {
        "id": "SkgPqv0SU11f"
      },
      "execution_count": 15,
      "outputs": []
    },
    {
      "cell_type": "code",
      "source": [
        "from tensorflow.keras.optimizers import RMSprop\n",
        "\n",
        "# Set training parameters\n",
        "model.compile(loss='binary_crossentropy',\n",
        "              optimizer=RMSprop(learning_rate=1e-4),\n",
        "              metrics=['accuracy'])"
      ],
      "metadata": {
        "id": "uUTJlEkYU30t"
      },
      "execution_count": 16,
      "outputs": []
    },
    {
      "cell_type": "code",
      "source": [
        "from tensorflow.keras.preprocessing.image import ImageDataGenerator\n",
        "\n",
        "# Applying the data augmentation\n",
        "train_datagen = ImageDataGenerator(\n",
        "    rescale=1/255,\n",
        "    rotation_range=60,\n",
        "    width_shift_range=0.2,\n",
        "    height_shift_range=0.2,\n",
        "    shear_range=0.2,\n",
        "    zoom_range=0.2,\n",
        "    horizontal_flip=True,\n",
        "    fill_mode='nearest'\n",
        ")\n",
        "\n",
        "val_datagen = ImageDataGenerator(rescale=1/255)\n",
        "\n",
        "# Flow training images in batches of 128 using train_datagen generator\n",
        "train_generator = train_datagen.flow_from_directory(\n",
        "    'tmp/horse-or-human/',    # This is the source directory for training images\n",
        "    target_size=(300, 300),\n",
        "    batch_size=128,\n",
        "    class_mode='binary'\n",
        ")\n",
        "\n",
        "# Flow validation images in the batches of 32 using val_datagen generator\n",
        "val_generator = val_datagen.flow_from_directory(\n",
        "    'tmp/validation-horse-or-human/',\n",
        "    target_size=(300, 300),\n",
        "    batch_size=32,\n",
        "    class_mode='binary'\n",
        ")"
      ],
      "metadata": {
        "colab": {
          "base_uri": "https://localhost:8080/"
        },
        "id": "zvNBIhvqU4-R",
        "outputId": "363d1f70-ea95-41c3-ee97-a495c7ff9e4f"
      },
      "execution_count": 17,
      "outputs": [
        {
          "output_type": "stream",
          "name": "stdout",
          "text": [
            "Found 1027 images belonging to 2 classes.\n",
            "Found 256 images belonging to 2 classes.\n"
          ]
        }
      ]
    },
    {
      "cell_type": "code",
      "source": [
        "# Constant for epochs\n",
        "EPOCHS = 20\n",
        "\n",
        "# Train the model\n",
        "history = model.fit(\n",
        "      train_generator,\n",
        "      steps_per_epoch=8,  \n",
        "      epochs=EPOCHS,\n",
        "      verbose=1,\n",
        "      validation_data = val_generator,\n",
        "      validation_steps=8)"
      ],
      "metadata": {
        "colab": {
          "base_uri": "https://localhost:8080/"
        },
        "id": "F_iYLTlQWgOa",
        "outputId": "74fa2c9a-2576-4aad-a90e-7f135d18ad27"
      },
      "execution_count": 19,
      "outputs": [
        {
          "output_type": "stream",
          "name": "stdout",
          "text": [
            "Epoch 1/20\n",
            "8/8 [==============================] - 35s 3s/step - loss: 0.6879 - accuracy: 0.5217 - val_loss: 0.6696 - val_accuracy: 0.5273\n",
            "Epoch 2/20\n",
            "8/8 [==============================] - 23s 3s/step - loss: 0.6792 - accuracy: 0.5217 - val_loss: 0.6474 - val_accuracy: 0.8125\n",
            "Epoch 3/20\n",
            "8/8 [==============================] - 23s 3s/step - loss: 0.6599 - accuracy: 0.6863 - val_loss: 0.6532 - val_accuracy: 0.5234\n",
            "Epoch 4/20\n",
            "8/8 [==============================] - 22s 3s/step - loss: 0.6559 - accuracy: 0.6129 - val_loss: 0.6092 - val_accuracy: 0.7031\n",
            "Epoch 5/20\n",
            "8/8 [==============================] - 22s 3s/step - loss: 0.6123 - accuracy: 0.7353 - val_loss: 0.7006 - val_accuracy: 0.5273\n",
            "Epoch 6/20\n",
            "8/8 [==============================] - 22s 3s/step - loss: 0.6545 - accuracy: 0.6385 - val_loss: 0.5769 - val_accuracy: 0.6719\n",
            "Epoch 7/20\n",
            "8/8 [==============================] - 22s 3s/step - loss: 0.5900 - accuracy: 0.7175 - val_loss: 0.5872 - val_accuracy: 0.6328\n",
            "Epoch 8/20\n",
            "8/8 [==============================] - 23s 3s/step - loss: 0.6022 - accuracy: 0.6730 - val_loss: 0.8540 - val_accuracy: 0.5117\n",
            "Epoch 9/20\n",
            "8/8 [==============================] - 22s 3s/step - loss: 0.5774 - accuracy: 0.7319 - val_loss: 0.5444 - val_accuracy: 0.7070\n",
            "Epoch 10/20\n",
            "8/8 [==============================] - 22s 3s/step - loss: 0.5572 - accuracy: 0.7386 - val_loss: 0.6217 - val_accuracy: 0.6094\n",
            "Epoch 11/20\n",
            "8/8 [==============================] - 22s 3s/step - loss: 0.5402 - accuracy: 0.7152 - val_loss: 0.4862 - val_accuracy: 0.7656\n",
            "Epoch 12/20\n",
            "8/8 [==============================] - 22s 3s/step - loss: 0.5364 - accuracy: 0.7319 - val_loss: 0.6499 - val_accuracy: 0.6328\n",
            "Epoch 13/20\n",
            "8/8 [==============================] - 23s 3s/step - loss: 0.5386 - accuracy: 0.7297 - val_loss: 0.5207 - val_accuracy: 0.7383\n",
            "Epoch 14/20\n",
            "8/8 [==============================] - 22s 3s/step - loss: 0.5138 - accuracy: 0.7519 - val_loss: 0.5535 - val_accuracy: 0.7148\n",
            "Epoch 15/20\n",
            "8/8 [==============================] - 22s 3s/step - loss: 0.5625 - accuracy: 0.7275 - val_loss: 0.7348 - val_accuracy: 0.6133\n",
            "Epoch 16/20\n",
            "8/8 [==============================] - 22s 3s/step - loss: 0.4891 - accuracy: 0.7742 - val_loss: 0.2860 - val_accuracy: 0.9023\n",
            "Epoch 17/20\n",
            "8/8 [==============================] - 22s 3s/step - loss: 0.5494 - accuracy: 0.7286 - val_loss: 0.7941 - val_accuracy: 0.6211\n",
            "Epoch 18/20\n",
            "8/8 [==============================] - 22s 3s/step - loss: 0.4605 - accuracy: 0.7831 - val_loss: 0.4799 - val_accuracy: 0.7812\n",
            "Epoch 19/20\n",
            "8/8 [==============================] - 22s 3s/step - loss: 0.4986 - accuracy: 0.7586 - val_loss: 1.0174 - val_accuracy: 0.5664\n",
            "Epoch 20/20\n",
            "8/8 [==============================] - 22s 3s/step - loss: 0.4977 - accuracy: 0.7519 - val_loss: 0.9949 - val_accuracy: 0.5469\n"
          ]
        }
      ]
    },
    {
      "cell_type": "code",
      "source": [
        "import matplotlib.pyplot as plt\n",
        "\n",
        "# Plot the model results\n",
        "acc = history.history['accuracy']\n",
        "val_acc = history.history['val_accuracy']\n",
        "loss = history.history['loss']\n",
        "val_loss = history.history['val_loss']\n",
        "\n",
        "epochs = range(len(acc))\n",
        "\n",
        "plt.plot(epochs, acc, 'r', label='Training accuracy')\n",
        "plt.plot(epochs, val_acc, 'b', label='Validation accuracy')\n",
        "plt.title('Training and validation accuracy')\n",
        "\n",
        "plt.figure()\n",
        "\n",
        "plt.plot(epochs, loss, 'r', label='Training Loss')\n",
        "plt.plot(epochs, val_loss, 'b', label='Validation Loss')\n",
        "plt.title('Training and validation loss')\n",
        "plt.legend()\n",
        "\n",
        "plt.show()"
      ],
      "metadata": {
        "colab": {
          "base_uri": "https://localhost:8080/",
          "height": 545
        },
        "id": "pN8UbgjoWies",
        "outputId": "ac470879-01d5-4152-8378-f048fc7befc5"
      },
      "execution_count": 20,
      "outputs": [
        {
          "output_type": "display_data",
          "data": {
            "text/plain": [
              "<Figure size 432x288 with 1 Axes>"
            ],
            "image/png": "[encoded data removed]"
          },
          "metadata": {
            "needs_background": "light"
          }
        },
        {
          "output_type": "display_data",
          "data": {
            "text/plain": [
              "<Figure size 432x288 with 1 Axes>"
            ],
            "image/png": "[encoded data removed]"
          },
          "metadata": {
            "needs_background": "light"
          }
        }
      ]
    },
    {
      "cell_type": "markdown",
      "source": [
        "As you can see in the results, the preprocessing techniques used in augmenting the data did not help much in the results. The validation accuracy is fluctuating and not trending up like the training accuracy. This might be because the additional training data generated still do not represent the features in the validation data. For example, some human or horse poses in the validation set cannot be mimicked by the image processing techniques that `ImageDataGenerator` provides. It might also be that the background of the training images are also learned so the white background of the validation set is throwing the model off even with cropping. Try looking at the validation images in the `tmp/validation-horse-or-human` directory (note: if you are using Colab, you can use the file explorer on the left to explore the images) and see if you can augment the training images to match its characteristics. If this is not possible, then at this point you can consider other techniques and you will see that in next week's lessons."
      ],
      "metadata": {
        "id": "vgU7bXHmWkhx"
      }
    }
  ]
}