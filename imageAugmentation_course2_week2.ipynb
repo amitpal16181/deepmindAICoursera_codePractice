{
  "cells": [
    {
      "cell_type": "markdown",
      "metadata": {
        "id": "view-in-github",
        "colab_type": "text"
      },
      "source": [
        "<a href=\"https://colab.research.google.com/github/amitpal16181/deepmindAICoursera_codePractice/blob/main/imageAugmentation_course2_week2.ipynb\" target=\"_parent\"><img src=\"https://colab.research.google.com/assets/colab-badge.svg\" alt=\"Open In Colab\"/></a>"
      ]
    },
    {
      "cell_type": "markdown",
      "metadata": {
        "id": "gGxCD4mGHHjG"
      },
      "source": [
        "# Ungraded Lab: Data Augmentation\n",
        "\n",
        "In the previous lessons, you saw that having a high training accuracy does not automatically mean having a good predictive model. It can still perform poorly on new data because it has overfit to the training set. In this lab, you will see how to avoid that using _data augmentation_. This increases the amount of training data by modifying the existing training data's properties. For example, in image data, you can apply different preprocessing techniques such as rotate, flip, shear, or zoom on your existing images so you can simulate other data that the model should also learn from. This way, the model would see more variety in the images during training so it will infer better on new, previously unseen data.\n",
        "\n",
        "Let's see how you can do this in the following sections."
      ]
    },
    {
      "cell_type": "markdown",
      "metadata": {
        "id": "kJJqX4DxcQs8"
      },
      "source": [
        "## Baseline Performance\n",
        "\n",
        "You will start with a model that's very effective at learning `Cats vs Dogs` without data augmentation. It's similar to the previous models that you have used. Note that there are four convolutional layers with 32, 64, 128 and 128 convolutions respectively. The code is basically the same from the previous lab so we won't go over the details step by step since you've already seen it before.\n",
        "\n",
        "You will train only for 20 epochs to save time but feel free to increase this if you want."
      ]
    },
    {
      "cell_type": "code",
      "execution_count": 1,
      "metadata": {
        "colab": {
          "base_uri": "https://localhost:8080/"
        },
        "id": "zJZIF29-dIRv",
        "outputId": "49a3da28-77e2-464a-a3bf-db56c0bc4e2f"
      },
      "outputs": [
        {
          "output_type": "stream",
          "name": "stdout",
          "text": [
            "--2023-01-07 12:20:39--  https://storage.googleapis.com/tensorflow-1-public/course2/cats_and_dogs_filtered.zip\n",
            "Resolving storage.googleapis.com (storage.googleapis.com)... 74.125.68.128, 74.125.24.128, 142.250.4.128, ...\n",
            "Connecting to storage.googleapis.com (storage.googleapis.com)|74.125.68.128|:443... connected.\n",
            "HTTP request sent, awaiting response... 200 OK\n",
            "Length: 68606236 (65M) [application/zip]\n",
            "Saving to: ‘cats_and_dogs_filtered.zip’\n",
            "\n",
            "cats_and_dogs_filte 100%[===================>]  65.43M  20.7MB/s    in 3.8s    \n",
            "\n",
            "2023-01-07 12:20:44 (17.1 MB/s) - ‘cats_and_dogs_filtered.zip’ saved [68606236/68606236]\n",
            "\n"
          ]
        }
      ],
      "source": [
        "# Download the dataset\n",
        "!wget https://storage.googleapis.com/tensorflow-1-public/course2/cats_and_dogs_filtered.zip"
      ]
    },
    {
      "cell_type": "code",
      "execution_count": 2,
      "metadata": {
        "id": "zLlBj_fS9c9P"
      },
      "outputs": [],
      "source": [
        "import os\n",
        "import zipfile\n",
        "\n",
        "# Extracting the archive\n",
        "zip_ref = zipfile.ZipFile(\"./cats_and_dogs_filtered.zip\", 'r')\n",
        "zip_ref.extractall('tmp/')\n",
        "zip_ref.close()\n",
        "\n",
        "# Assigning training and validation set directories\n",
        "base_dir = 'tmp/cats_and_dogs_filtered'\n",
        "train_dir = os.path.join(base_dir, 'train')\n",
        "validation_dir = os.path.join(base_dir, 'validation')\n",
        "\n",
        "# Directory with training cat pictures\n",
        "train_cats_dir = os.path.join(train_dir, 'cats')\n",
        "\n",
        "# Directory with training dogs pictures\n",
        "training_dogs_dir = os.path.join(train_dir, 'dogs')\n",
        "\n",
        "# Directory with cats validation images\n",
        "val_cats_dir = os.path.join(validation_dir, 'cats')\n",
        "\n",
        "# Directory with dogs validation images\n",
        "val_dogs_dir = os.path.join(validation_dir, 'dogs')"
      ]
    },
    {
      "cell_type": "markdown",
      "metadata": {
        "id": "Ub_BdOJIfZ_Q"
      },
      "source": [
        "You will place the model creation inside a function so you can easily initialize a new one when you use data augmentation later in this notebook."
      ]
    },
    {
      "cell_type": "code",
      "execution_count": 3,
      "metadata": {
        "id": "wEIqZOui_Gdy"
      },
      "outputs": [],
      "source": [
        "import tensorflow as tf\n",
        "from tensorflow.keras.optimizers import RMSprop\n",
        "\n",
        "def create_model():\n",
        "  '''Creates a CNN with 4 convolutional layers'''\n",
        "\n",
        "  model = tf.keras.models.Sequential([\n",
        "      tf.keras.layers.Conv2D(32, (3,3), activation='relu', input_shape=(150, 150, 3)),\n",
        "      tf.keras.layers.MaxPooling2D(2, 2),\n",
        "      tf.keras.layers.Conv2D(64, (3,3), activation='relu'),\n",
        "      tf.keras.layers.MaxPooling2D(2, 2),\n",
        "      tf.keras.layers.Conv2D(128, (3,3), activation='relu'),\n",
        "      tf.keras.layers.MaxPooling2D(2, 2),\n",
        "      tf.keras.layers.Conv2D(128, (3,3), activation='relu'),\n",
        "      tf.keras.layers.MaxPooling2D(2, 2),\n",
        "      \n",
        "      tf.keras.layers.Flatten(),\n",
        "      tf.keras.layers.Dense(512, activation='relu'),\n",
        "      tf.keras.layers.Dense(1, activation='sigmoid')\n",
        "  ])\n",
        "\n",
        "  model.compile(loss='binary_crossentropy',\n",
        "                optimizer=RMSprop(learning_rate=1e-4),\n",
        "                metrics=['accuracy'])\n",
        "  \n",
        "  return model"
      ]
    },
    {
      "cell_type": "code",
      "execution_count": 4,
      "metadata": {
        "colab": {
          "base_uri": "https://localhost:8080/"
        },
        "id": "el2Ssl2IAxd5",
        "outputId": "c4fd47f8-f20e-466a-b3e0-4f23f474f7d9"
      },
      "outputs": [
        {
          "output_type": "stream",
          "name": "stdout",
          "text": [
            "Found 2000 images belonging to 2 classes.\n",
            "Found 1000 images belonging to 2 classes.\n"
          ]
        }
      ],
      "source": [
        "from tensorflow.keras.preprocessing.image import ImageDataGenerator\n",
        "\n",
        "# All images will be rescaled by 1/255\n",
        "train_datagen = ImageDataGenerator(rescale=1/255)\n",
        "test_datagen = ImageDataGenerator(rescale=1/255)\n",
        "\n",
        "# Flow training images in batches of 20 using train_datagen generator\n",
        "train_generator = train_datagen.flow_from_directory(\n",
        "    train_dir,   # This is the source directory for training images\n",
        "    target_size=(150, 150),   # All images will be resized to 150x150\n",
        "    batch_size=20,\n",
        "    class_mode='binary'\n",
        ")\n",
        "\n",
        "# Flow validation images in batches of 20 using test_datagen generator\n",
        "val_generator = test_datagen.flow_from_directory(\n",
        "    validation_dir,\n",
        "    target_size=(150, 150),\n",
        "    batch_size=20,\n",
        "    class_mode='binary'\n",
        ")"
      ]
    },
    {
      "cell_type": "code",
      "execution_count": 5,
      "metadata": {
        "id": "tbFKOHn1CJXk",
        "colab": {
          "base_uri": "https://localhost:8080/"
        },
        "outputId": "bdf2a382-3cba-4d6a-ecec-fc2743c8c621"
      },
      "outputs": [
        {
          "output_type": "stream",
          "name": "stdout",
          "text": [
            "Epoch 1/20\n",
            "100/100 - 22s - loss: 0.6880 - accuracy: 0.5445 - val_loss: 0.6737 - val_accuracy: 0.5220 - 22s/epoch - 215ms/step\n",
            "Epoch 2/20\n",
            "100/100 - 9s - loss: 0.6564 - accuracy: 0.6105 - val_loss: 0.6371 - val_accuracy: 0.6400 - 9s/epoch - 93ms/step\n",
            "Epoch 3/20\n",
            "100/100 - 9s - loss: 0.6088 - accuracy: 0.6690 - val_loss: 0.7520 - val_accuracy: 0.5620 - 9s/epoch - 91ms/step\n",
            "Epoch 4/20\n",
            "100/100 - 9s - loss: 0.5720 - accuracy: 0.6950 - val_loss: 0.5838 - val_accuracy: 0.6930 - 9s/epoch - 90ms/step\n",
            "Epoch 5/20\n",
            "100/100 - 9s - loss: 0.5390 - accuracy: 0.7190 - val_loss: 0.5860 - val_accuracy: 0.6860 - 9s/epoch - 91ms/step\n",
            "Epoch 6/20\n",
            "100/100 - 10s - loss: 0.5155 - accuracy: 0.7380 - val_loss: 0.5668 - val_accuracy: 0.7040 - 10s/epoch - 100ms/step\n",
            "Epoch 7/20\n",
            "100/100 - 9s - loss: 0.4875 - accuracy: 0.7640 - val_loss: 0.5514 - val_accuracy: 0.7270 - 9s/epoch - 94ms/step\n",
            "Epoch 8/20\n",
            "100/100 - 9s - loss: 0.4600 - accuracy: 0.7740 - val_loss: 0.5643 - val_accuracy: 0.7140 - 9s/epoch - 90ms/step\n",
            "Epoch 9/20\n",
            "100/100 - 9s - loss: 0.4368 - accuracy: 0.8005 - val_loss: 0.5944 - val_accuracy: 0.6950 - 9s/epoch - 90ms/step\n",
            "Epoch 10/20\n",
            "100/100 - 9s - loss: 0.4102 - accuracy: 0.8165 - val_loss: 0.5739 - val_accuracy: 0.7150 - 9s/epoch - 90ms/step\n",
            "Epoch 11/20\n",
            "100/100 - 9s - loss: 0.3822 - accuracy: 0.8335 - val_loss: 0.5403 - val_accuracy: 0.7430 - 9s/epoch - 91ms/step\n",
            "Epoch 12/20\n",
            "100/100 - 9s - loss: 0.3625 - accuracy: 0.8385 - val_loss: 0.5402 - val_accuracy: 0.7360 - 9s/epoch - 89ms/step\n",
            "Epoch 13/20\n",
            "100/100 - 9s - loss: 0.3321 - accuracy: 0.8535 - val_loss: 0.5643 - val_accuracy: 0.7350 - 9s/epoch - 88ms/step\n",
            "Epoch 14/20\n",
            "100/100 - 9s - loss: 0.3006 - accuracy: 0.8805 - val_loss: 0.5725 - val_accuracy: 0.7460 - 9s/epoch - 89ms/step\n",
            "Epoch 15/20\n",
            "100/100 - 9s - loss: 0.2725 - accuracy: 0.8940 - val_loss: 0.5706 - val_accuracy: 0.7410 - 9s/epoch - 90ms/step\n",
            "Epoch 16/20\n",
            "100/100 - 9s - loss: 0.2524 - accuracy: 0.8925 - val_loss: 0.6773 - val_accuracy: 0.7150 - 9s/epoch - 89ms/step\n",
            "Epoch 17/20\n",
            "100/100 - 9s - loss: 0.2232 - accuracy: 0.9165 - val_loss: 0.5859 - val_accuracy: 0.7540 - 9s/epoch - 89ms/step\n",
            "Epoch 18/20\n",
            "100/100 - 9s - loss: 0.2011 - accuracy: 0.9270 - val_loss: 0.7208 - val_accuracy: 0.7050 - 9s/epoch - 89ms/step\n",
            "Epoch 19/20\n",
            "100/100 - 9s - loss: 0.1743 - accuracy: 0.9405 - val_loss: 0.6612 - val_accuracy: 0.7360 - 9s/epoch - 89ms/step\n",
            "Epoch 20/20\n",
            "100/100 - 9s - loss: 0.1592 - accuracy: 0.9485 - val_loss: 0.6614 - val_accuracy: 0.7480 - 9s/epoch - 88ms/step\n"
          ]
        }
      ],
      "source": [
        "# Constant epochs\n",
        "EPOCHS = 20\n",
        "\n",
        "# Creating new model\n",
        "model = create_model()\n",
        "\n",
        "history = model.fit(\n",
        "    train_generator,\n",
        "    steps_per_epoch=100,    # 2000 images = batch_size * steps\n",
        "    epochs=EPOCHS,\n",
        "    validation_data=val_generator,\n",
        "    validation_steps=50,\n",
        "    verbose=2\n",
        ")"
      ]
    },
    {
      "cell_type": "markdown",
      "metadata": {
        "id": "Y-G0Am4cguNt"
      },
      "source": [
        "You will then visualize the loss and accuracy with respect to the training and validation set. You will again use a convenience function so it can be reused later. This function accepts a [History](https://www.tensorflow.org/api_docs/python/tf/keras/callbacks/History) object which contains the results of the `fit()` method you ran above."
      ]
    },
    {
      "cell_type": "code",
      "execution_count": 6,
      "metadata": {
        "id": "NmY3hTBKJbvD"
      },
      "outputs": [],
      "source": [
        "import matplotlib.pyplot as plt\n",
        "\n",
        "def plot_loss_acc(history):\n",
        "  '''Plotting the rraining and validation loss and accuracy from a history object'''\n",
        "  acc = history.history['accuracy']\n",
        "  val_acc = history.history['val_accuracy']\n",
        "  loss = history.history['loss']\n",
        "  val_loss = history.history['val_loss']\n",
        "\n",
        "  epochs = range(len(acc))\n",
        "\n",
        "  plt.plot(epochs, acc, 'bo', label='Training Accuracy')\n",
        "  plt.plot(epochs, val_acc, 'b', label='Validation Accuracy')\n",
        "  plt.title('Training and Validation Accuracy')\n",
        "\n",
        "  plt.figure()\n",
        "\n",
        "  plt.plot(epochs, loss, 'bo', label='Training Loss')\n",
        "  plt.plot(epochs, val_loss, 'b', label='Validation Loss')\n",
        "  plt.title('Training and Validation Loss')\n",
        "  plt.legend()\n",
        "\n",
        "  plt.show()"
      ]
    },
    {
      "cell_type": "code",
      "execution_count": 7,
      "metadata": {
        "id": "36sGHEXbK_0d",
        "colab": {
          "base_uri": "https://localhost:8080/",
          "height": 545
        },
        "outputId": "357fe635-2191-41fb-80d9-dba5ce468eeb"
      },
      "outputs": [
        {
          "output_type": "display_data",
          "data": {
            "text/plain": [
              "<Figure size 432x288 with 1 Axes>"
            ],
            "image/png": "[encoded data removed]"
          },
          "metadata": {
            "needs_background": "light"
          }
        },
        {
          "output_type": "display_data",
          "data": {
            "text/plain": [
              "<Figure size 432x288 with 1 Axes>"
            ],
            "image/png": "[encoded data removed]"
          },
          "metadata": {
            "needs_background": "light"
          }
        }
      ],
      "source": [
        "# Plotting the training results\n",
        "plot_loss_acc(history)"
      ]
    },
    {
      "cell_type": "markdown",
      "metadata": {
        "id": "zb81GvNov-Tg"
      },
      "source": [
        "From the results above, you'll see the training accuracy is more than 90%, and the validation accuracy is in the 70%-80% range. This is a great example of _overfitting_ -- which in short means that it can do very well with images it has seen before, but not so well with images it hasn't.\n"
      ]
    },
    {
      "cell_type": "markdown",
      "metadata": {
        "id": "5KBz-vFbjLZX"
      },
      "source": [
        "## Data augmentation\n",
        "\n",
        "One simple method to avoid overfitting is to augment the images a bit. If you think about it, most pictures of a cat are very similar -- the ears are at the top, then the eyes, then the mouth etc. Things like the distance between the eyes and ears will always be quite similar too. \n",
        "\n",
        "What if you tweak with the images a bit -- rotate the image, squash it, etc.  That's what image augementation is all about. And there's an API that makes it easy!\n",
        "\n",
        "Take a look at the [ImageDataGenerator](https://www.tensorflow.org/api_docs/python/tf/keras/preprocessing/image/ImageDataGenerator) which you have been using to rescale the image. There are other properties on it that you can use to augment the image. \n",
        "\n",
        "```\n",
        "# Updated to do image augmentation\n",
        "train_datagen = ImageDataGenerator(\n",
        "      rotation_range=40,\n",
        "      width_shift_range=0.2,\n",
        "      height_shift_range=0.2,\n",
        "      shear_range=0.2,\n",
        "      zoom_range=0.2,\n",
        "      horizontal_flip=True,\n",
        "      fill_mode='nearest')\n",
        "```\n",
        "\n",
        "These are just a few of the options available. Let's quickly go over it:\n",
        "\n",
        "* `rotation_range` is a value in degrees (0–180) within which to randomly rotate pictures.\n",
        "* `width_shift` and `height_shift` are ranges (as a fraction of total width or height) within which to randomly translate pictures vertically or horizontally.\n",
        "* `shear_range` is for randomly applying shearing transformations.\n",
        "* `zoom_range` is for randomly zooming inside pictures.\n",
        "* `horizontal_flip` is for randomly flipping half of the images horizontally. This is relevant when there are no assumptions of horizontal assymmetry (e.g. real-world pictures).\n",
        "* `fill_mode` is the strategy used for filling in newly created pixels, which can appear after a rotation or a width/height shift.\n",
        "\n",
        "\n",
        "Run the next cells to see the impact on the results. The code is similar to the baseline but the definition of `train_datagen` has been updated to use the parameters described above.\n"
      ]
    },
    {
      "cell_type": "code",
      "source": [
        "# Creating new model\n",
        "model_for_augmentation = create_model()\n",
        "\n",
        "# This code has changed. Now instead of the ImageGenerator just rescaling the image, we also rotate and do other operations\n",
        "train_datagen = ImageDataGenerator(\n",
        "    rescale=1/255,\n",
        "    rotation_range=40,\n",
        "    width_shift_range=0.2,\n",
        "    height_shift_range=0.2,\n",
        "    shear_range=0.2,\n",
        "    zoom_range=0.2,\n",
        "    horizontal_flip=True,\n",
        "    fill_mode='nearest'\n",
        ")\n",
        "\n",
        "test_datagen = ImageDataGenerator(rescale=1/255)\n",
        "\n",
        "# Flow training images in the batches of 20 using train_datagen generator\n",
        "train_generator = train_datagen.flow_from_directory(\n",
        "    train_dir,    # This is the source directory for training images\n",
        "    target_size=(150, 150),   # All images will be rescaled to 150x150\n",
        "    batch_size=20,\n",
        "    class_mode='binary'\n",
        ")\n",
        "\n",
        "# Flow validation imaged in the batches of 20 using test_datagen generator\n",
        "val_generator = test_datagen.flow_from_directory(\n",
        "    validation_dir,\n",
        "    target_size=(150, 150),\n",
        "    batch_size=20,\n",
        "    class_mode='binary'\n",
        ")\n",
        "\n",
        "# Training the new model\n",
        "history_with_augmentation = model_for_augmentation.fit(\n",
        "    train_generator,\n",
        "    steps_per_epoch=100,\n",
        "    epochs=EPOCHS,\n",
        "    validation_data=val_generator,\n",
        "    validation_steps=50,\n",
        "    verbose=2\n",
        ")"
      ],
      "metadata": {
        "colab": {
          "base_uri": "https://localhost:8080/"
        },
        "id": "t1n5Tz08N_7Z",
        "outputId": "12f0402b-6412-48fb-b910-d7a35959c62d"
      },
      "execution_count": 9,
      "outputs": [
        {
          "output_type": "stream",
          "name": "stdout",
          "text": [
            "Found 2000 images belonging to 2 classes.\n",
            "Found 1000 images belonging to 2 classes.\n",
            "Epoch 1/20\n",
            "100/100 - 22s - loss: 0.6910 - accuracy: 0.5255 - val_loss: 0.6767 - val_accuracy: 0.6070 - 22s/epoch - 222ms/step\n",
            "Epoch 2/20\n",
            "100/100 - 28s - loss: 0.6751 - accuracy: 0.5905 - val_loss: 0.6953 - val_accuracy: 0.5160 - 28s/epoch - 277ms/step\n",
            "Epoch 3/20\n",
            "100/100 - 18s - loss: 0.6600 - accuracy: 0.5840 - val_loss: 0.6297 - val_accuracy: 0.6480 - 18s/epoch - 180ms/step\n",
            "Epoch 4/20\n",
            "100/100 - 17s - loss: 0.6412 - accuracy: 0.6270 - val_loss: 0.6984 - val_accuracy: 0.5510 - 17s/epoch - 172ms/step\n",
            "Epoch 5/20\n",
            "100/100 - 17s - loss: 0.6322 - accuracy: 0.6305 - val_loss: 0.5876 - val_accuracy: 0.6810 - 17s/epoch - 172ms/step\n",
            "Epoch 6/20\n",
            "100/100 - 18s - loss: 0.6095 - accuracy: 0.6610 - val_loss: 0.5869 - val_accuracy: 0.6820 - 18s/epoch - 179ms/step\n",
            "Epoch 7/20\n",
            "100/100 - 18s - loss: 0.6021 - accuracy: 0.6700 - val_loss: 0.5626 - val_accuracy: 0.6970 - 18s/epoch - 179ms/step\n",
            "Epoch 8/20\n",
            "100/100 - 18s - loss: 0.5903 - accuracy: 0.6800 - val_loss: 0.5644 - val_accuracy: 0.6950 - 18s/epoch - 181ms/step\n",
            "Epoch 9/20\n",
            "100/100 - 18s - loss: 0.5898 - accuracy: 0.6835 - val_loss: 0.5533 - val_accuracy: 0.7060 - 18s/epoch - 179ms/step\n",
            "Epoch 10/20\n",
            "100/100 - 17s - loss: 0.5795 - accuracy: 0.6835 - val_loss: 0.5489 - val_accuracy: 0.7050 - 17s/epoch - 173ms/step\n",
            "Epoch 11/20\n",
            "100/100 - 17s - loss: 0.5681 - accuracy: 0.7005 - val_loss: 0.5553 - val_accuracy: 0.7020 - 17s/epoch - 173ms/step\n",
            "Epoch 12/20\n",
            "100/100 - 18s - loss: 0.5694 - accuracy: 0.7005 - val_loss: 0.5404 - val_accuracy: 0.7130 - 18s/epoch - 179ms/step\n",
            "Epoch 13/20\n",
            "100/100 - 17s - loss: 0.5697 - accuracy: 0.6915 - val_loss: 0.5291 - val_accuracy: 0.7330 - 17s/epoch - 170ms/step\n",
            "Epoch 14/20\n",
            "100/100 - 17s - loss: 0.5604 - accuracy: 0.7100 - val_loss: 0.5375 - val_accuracy: 0.7210 - 17s/epoch - 173ms/step\n",
            "Epoch 15/20\n",
            "100/100 - 17s - loss: 0.5474 - accuracy: 0.7210 - val_loss: 0.5767 - val_accuracy: 0.6870 - 17s/epoch - 174ms/step\n",
            "Epoch 16/20\n",
            "100/100 - 18s - loss: 0.5526 - accuracy: 0.7010 - val_loss: 0.5126 - val_accuracy: 0.7250 - 18s/epoch - 179ms/step\n",
            "Epoch 17/20\n",
            "100/100 - 18s - loss: 0.5434 - accuracy: 0.7150 - val_loss: 0.5287 - val_accuracy: 0.7330 - 18s/epoch - 176ms/step\n",
            "Epoch 18/20\n",
            "100/100 - 18s - loss: 0.5380 - accuracy: 0.7285 - val_loss: 0.6117 - val_accuracy: 0.6710 - 18s/epoch - 177ms/step\n",
            "Epoch 19/20\n",
            "100/100 - 17s - loss: 0.5401 - accuracy: 0.7240 - val_loss: 0.5156 - val_accuracy: 0.7270 - 17s/epoch - 173ms/step\n",
            "Epoch 20/20\n",
            "100/100 - 17s - loss: 0.5459 - accuracy: 0.7170 - val_loss: 0.5063 - val_accuracy: 0.7370 - 17s/epoch - 169ms/step\n"
          ]
        }
      ]
    },
    {
      "cell_type": "code",
      "source": [
        "# Plotting the results of training with data augmentation\n",
        "plot_loss_acc(history_with_augmentation)"
      ],
      "metadata": {
        "colab": {
          "base_uri": "https://localhost:8080/",
          "height": 545
        },
        "id": "lYv5fk-UQLwG",
        "outputId": "c3b38557-86ed-4f79-fb4f-88d719be50fd"
      },
      "execution_count": 10,
      "outputs": [
        {
          "output_type": "display_data",
          "data": {
            "text/plain": [
              "<Figure size 432x288 with 1 Axes>"
            ],
            "image/png": "[encoded data removed]"
          },
          "metadata": {
            "needs_background": "light"
          }
        },
        {
          "output_type": "display_data",
          "data": {
            "text/plain": [
              "<Figure size 432x288 with 1 Axes>"
            ],
            "image/png": "[encoded data removed]"
          },
          "metadata": {
            "needs_background": "light"
          }
        }
      ]
    },
    {
      "cell_type": "markdown",
      "metadata": {
        "id": "1D1hd5fqmJUx"
      },
      "source": [
        "As you can see, the training accuracy has gone down compared to the baseline. This is expected because (as a result of data augmentation) there are more variety in the images so the model will need more runs to learn from them. The good thing is the validation accuracy is no longer stalling and is more in line with the training results. This means that the model is now performing better on unseen data. \n",
        "\n",
        "\n"
      ]
    },
    {
      "cell_type": "markdown",
      "metadata": {
        "id": "z4B9b6GPnKg1"
      },
      "source": [
        "## Wrap Up\n",
        "\n",
        "This exercise showed a simple trick to avoid overfitting. You can improve your baseline results by simply tweaking the same images you have already. The `ImageDataGenerator` class has built-in parameters to do just that. Try to modify the values some more in the `train_datagen` and see what results you get.\n",
        "\n",
        "Take note that this will not work for all cases. In the next lesson, Laurence will show a scenario where data augmentation will not help improve your validation accuracy."
      ]
    }
  ],
  "metadata": {
    "accelerator": "GPU",
    "colab": {
      "provenance": [],
      "authorship_tag": "ABX9TyN35PC/n40NKHoz6TYTJ3EK",
      "include_colab_link": true
    },
    "gpuClass": "standard",
    "kernelspec": {
      "display_name": "Python 3",
      "name": "python3"
    },
    "language_info": {
      "name": "python"
    }
  },
  "nbformat": 4,
  "nbformat_minor": 0
}